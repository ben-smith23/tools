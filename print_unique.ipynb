{
  "nbformat": 4,
  "nbformat_minor": 0,
  "metadata": {
    "colab": {
      "provenance": [],
      "authorship_tag": "ABX9TyPJa6gGfZJEuPdRrwMnnVL1",
      "include_colab_link": true
    },
    "kernelspec": {
      "name": "python3",
      "display_name": "Python 3"
    },
    "language_info": {
      "name": "python"
    }
  },
  "cells": [
    {
      "cell_type": "markdown",
      "metadata": {
        "id": "view-in-github",
        "colab_type": "text"
      },
      "source": [
        "<a href=\"https://colab.research.google.com/github/ben-smith23/tools/blob/main/print_unique.ipynb\" target=\"_parent\"><img src=\"https://colab.research.google.com/assets/colab-badge.svg\" alt=\"Open In Colab\"/></a>"
      ]
    },
    {
      "cell_type": "markdown",
      "source": [
        "### Instructions:\n",
        "1. Run the first cell titled **\"Upload\"**.\n",
        "2. When prompted, upload your `.csv` or `.xlsx` file.\n",
        "3. Edit the `COLUMN` field in the second cell to match the exact column name.\n",
        "4. Edit the `SHEET` field:\n",
        "   - For Excel files, enter the worksheet name (e.g., `'Sheet1'`)\n",
        "   - For CSV files, leave it as `None`\n",
        "5. Run the second cell to print the unique values in that column."
      ],
      "metadata": {
        "id": "wawLT0XcYaDJ"
      }
    },
    {
      "cell_type": "code",
      "execution_count": null,
      "metadata": {
        "cellView": "form",
        "id": "UNXJi8zC_YPH"
      },
      "outputs": [],
      "source": [
        "# @title Cell 1: Upload\n",
        "!wget -q -nc https://raw.githubusercontent.com/ben-smith23/tools/main/column_values.py\n",
        "from column_values import print_uniques; from google.colab import files; FILE = next(iter(files.upload()))"
      ]
    },
    {
      "cell_type": "code",
      "source": [
        "# @title Cell 2: Specify Names/Print\n",
        "\n",
        "COLUMN   = 'name'\n",
        "SHEET    = None\n",
        "\n",
        "print_uniques(FILE, COLUMN, SHEET)"
      ],
      "metadata": {
        "id": "iKPrZ64eAas1"
      },
      "execution_count": null,
      "outputs": []
    }
  ]
}